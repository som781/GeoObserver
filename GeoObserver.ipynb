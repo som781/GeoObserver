{
 "cells": [
  {
   "cell_type": "markdown",
   "id": "d1899af4",
   "metadata": {
    "hide_input": false
   },
   "source": [
    "# GeoObserver - A General Earth Engine App \n"
   ]
  },
  {
   "cell_type": "code",
   "execution_count": 1,
   "id": "9b6b015c",
   "metadata": {
    "hide_input": false,
    "scrolled": true
   },
   "outputs": [],
   "source": [
    "import os\n",
    "import ee\n",
    "import geemap\n",
    "import calendar\n",
    "import fontstyle\n",
    "import pandas as pd\n",
    "import ipywidgets as widgets\n",
    "from datetime import datetime\n",
    "from ipyleaflet import WidgetControl\n",
    "from IPython.display import display\n",
    "from tabulate import tabulate\n",
    "from datetime import datetime\n",
    "import matplotlib.pyplot as plt\n",
    "from IPython.core.interactiveshell import InteractiveShell\n",
    "InteractiveShell.ast_node_interactivity = \"all\""
   ]
  },
  {
   "cell_type": "code",
   "execution_count": 2,
   "id": "4b49427e",
   "metadata": {},
   "outputs": [],
   "source": [
    "# ee.Authenticate()\n",
    "ee.Initialize()"
   ]
  },
  {
   "cell_type": "code",
   "execution_count": 3,
   "id": "9974d16c",
   "metadata": {
    "scrolled": true
   },
   "outputs": [],
   "source": [
    "# NDVI - EVI - SAVI - NDBI - NDWI - NDSI \n",
    "\n",
    "def ndviImage(image):\n",
    "    ndvi = image.normalizedDifference([\"SR_B4\", \"SR_B3\"])\n",
    "    return image.addBands(ndvi.rename(\"NDVI\"))\n",
    "\n",
    "def ndbiImage(image):\n",
    "    ndbi = image.normalizedDifference([\"SR_B5\", \"SR_B4\"])\n",
    "    return image.addBands(ndbi.rename(\"NDBI\"))\n",
    "\n",
    "def ndwiImage(image):\n",
    "    ndwi = image.normalizedDifference([\"SR_B2\", \"SR_B4\"])\n",
    "    return image.addBands(ndwi.rename(\"NDWI\"))\n",
    "\n",
    "def ndsiImage(image):\n",
    "    ndsi = image.normalizedDifference([\"SR_B2\", \"SR_B5\"])\n",
    "    return image.addBands(ndsi.rename(\"NDSI\"))\n",
    "\n",
    "def eviImage(image) :\n",
    "    evi = image.expression('2.5*((NIR - RED)/((NIR) + (6 * RED) - (7.5 * BLUE) + 1))', \n",
    "          {'NIR': image.select('SR_B4'),'RED': image.select('SR_B3'), 'BLUE': image.select('SR_B1')})\n",
    "    return image.addBands(evi.rename('EVI'));\n",
    "\n",
    "def saviImage(image) :\n",
    "    nir, red = image.select('SR_B4'), image.select('SR_B3')\n",
    "    numerator = (nir.subtract(red)).multiply(ee.Image(1.5)) \n",
    "    denominator = (nir.add(red)).add(ee.Image(0.5))\n",
    "    savi =  (numerator.divide(denominator)).rename('SAVI')\n",
    "    return image.addBands(savi)"
   ]
  },
  {
   "cell_type": "code",
   "execution_count": 4,
   "id": "9f6fcf84",
   "metadata": {},
   "outputs": [],
   "source": [
    "current_time = ''\n",
    "current_indices = ''\n",
    "\n",
    "style = {'description_width': 'initial'}\n",
    "\n",
    "months = list(calendar.month_name)\n",
    "\n",
    "year = widgets.IntSlider(description='Year:',\n",
    "                         value=2000,\n",
    "                         min=2000,\n",
    "                         max=2022,\n",
    "                         style=style)\n",
    "month = widgets.IntSlider(description='Month:',\n",
    "                          value=1,\n",
    "                          min=1,\n",
    "                          max=12,\n",
    "                          style=style)\n",
    "\n",
    "nd_options = [\"NDVI\", 'EVI', 'NDWI', 'NDSI', 'NDBI', 'SAVI']\n",
    "\n",
    "nd_indices = widgets.Dropdown(\n",
    "    options=nd_options,\n",
    "    value=\"NDVI\",\n",
    "    description='Index : ',\n",
    "    style=style,\n",
    ")\n",
    "\n",
    "\n",
    "clr_options = [ [\"red\", \"yellow\", \"green\"], [\"red\", \"orange\", \"yellow\"], [\"red\", \"lightsteelblue\", \"blue\"], \n",
    "                [\"blue\", \"green\", \"red\"], [\"red\", \"pink\", \"orange\"], [\"blue\", \"cyan\", \"grey\"]]\n",
    "\n",
    "plates = widgets.Dropdown(\n",
    "    description='Colours',\n",
    "    options=clr_options,\n",
    "    value=[\"red\", \"yellow\", \"green\"],\n",
    "    style=style,\n",
    ")\n",
    "\n",
    "def nd_color_change(change):                                        \n",
    "    if nd_indices.value == 'NDVI':     \n",
    "        plates.value = [\"red\", \"yellow\", \"green\"]         \n",
    "    elif nd_indices.value == 'EVI':    \n",
    "        plates.value = [\"red\", \"orange\", \"yellow\"]\n",
    "    elif nd_indices.value == 'NDWI':\n",
    "        plates.value = [\"red\", \"lightsteelblue\", \"blue\"]\n",
    "    elif nd_indices.value == 'NDSI':\n",
    "        plates.value = [\"blue\", \"green\", \"red\"]\n",
    "    elif nd_indices.value == 'NDBI':\n",
    "        plates.value = [\"red\", \"pink\", \"orange\"]\n",
    "    elif nd_indices.value == 'SAVI':\n",
    "        plates.value = [\"blue\", \"cyan\", \"grey\"]\n",
    "    else:\n",
    "        plates.value = [\"red\", \"yellow\", \"green\"]\n",
    "\n",
    "\n",
    "nd_indices.observe(nd_color_change, names='value')\n",
    "\n",
    "compute = widgets.Button(\n",
    "    description='compute',\n",
    "    button_style='primary',\n",
    "    tooltip='click to compute the index',\n",
    "    style=style,\n",
    ")\n",
    "\n",
    "\n",
    "hbox = widgets.HBox([year, month, nd_indices, compute])\n",
    "\n",
    "output = widgets.Output()"
   ]
  },
  {
   "cell_type": "code",
   "execution_count": 5,
   "id": "0bebd738",
   "metadata": {},
   "outputs": [],
   "source": [
    "def submit_clicked(b):\n",
    "    global items, AOI, limit, data_lis\n",
    "    with output:\n",
    "\n",
    "        output.clear_output()\n",
    "\n",
    "        def clipImage(image):\n",
    "            return image.clip(AOI)\n",
    "        \n",
    "        def setImage(image):\n",
    "            Mean = (image.reduceRegion(reducer= ee.Reducer.mean(), geometry = AOI, scale = 30, maxPixels = 1e30)).get(nd_indices.value)\n",
    "            Median = (image.reduceRegion(reducer= ee.Reducer.median(), geometry = AOI, scale = 30, maxPixels = 1e30)).get(nd_indices.value)\n",
    "            return image.set({'Mean':Mean , 'Median' : Median })\n",
    "\n",
    "        AOI = Map.user_rois\n",
    "\n",
    "        dataset = ee.ImageCollection(\"LANDSAT/LE07/C02/T1_L2\")\\\n",
    "                .filterBounds(AOI).filter(ee.Filter.calendarRange(year.value,year.value,'year'))\\\n",
    "                .filter(ee.Filter.calendarRange(month.value,month.value,'month'))\\\n",
    "                .map(ndviImage).map(eviImage).map(ndwiImage).map(ndsiImage).map(ndbiImage).map(saviImage)\\\n",
    "                .map(clipImage).select(nd_indices.value).map(setImage)\n",
    "        \n",
    "        limit = dataset.size().getInfo()\n",
    "        data_lis = dataset.toList(dataset.size())\n",
    "        \n",
    "        dataset.propertyNames().getInfo()\n",
    "        \n",
    "        items = [\"LANDSAT/LE07/C02/T1_L2/\"+x for x in dataset.aggregate_array(\"system:index\").getInfo()]     \n",
    "        image = dataset.toBands()\n",
    "            \n",
    "        Mean = dataset.aggregate_array(\"Mean\").getInfo()\n",
    "        Median = dataset.aggregate_array(\"Median\").getInfo()\n",
    "        \n",
    "        \n",
    "        df = pd.DataFrame(list(zip(items, Mean, Median)),columns =['ID', 'Mean', 'Median'])\n",
    "        \n",
    "        vis_params = {\n",
    "            \"min\": -1,\n",
    "            \"max\": 1,\n",
    "            \"palette\": plates.value \n",
    "        }\n",
    "\n",
    "        Map.clear_layers()\n",
    "        Map.add_basemap('HYBRID')\n",
    "\n",
    "        Map.addLayer(dataset.select(nd_indices.value), vis_params,nd_indices.value)\n",
    "\n",
    "        text = f\"Showing {nd_indices.value} map for the selected area, for {months[month.value]} {year.value}\"\n",
    "        \n",
    "        print(text)\n",
    "        print('\\nDownloading the csv file of data...')\n",
    "        print(\"\\nitems present in the collection are as follows : \\n\")\n",
    "        print(tabulate(df, headers = 'keys', tablefmt = 'fancy_grid'))\n",
    "\n",
    "        now = datetime.now()\n",
    "        current = now.strftime(\"%H:%M:%S\")\n",
    "        \n",
    "        file_name = f'indices_{nd_indices.value}_downloaded_at_time_{current}.csv'\n",
    "        df.to_csv(file_name)\n",
    "        current_time = current\n",
    "        current_indices = nd_indices.value\n",
    "\n",
    "        print(f'\\nData is downloaded with filename : {file_name}')\n",
    "        \n",
    "compute.on_click(submit_clicked)"
   ]
  },
  {
   "cell_type": "code",
   "execution_count": 6,
   "id": "ed36c767",
   "metadata": {},
   "outputs": [],
   "source": [
    "download = widgets.Button(\n",
    "    description='download images  (.tif)',\n",
    "    button_style='primary',\n",
    "    tooltip='Download all the images',\n",
    "    style=style,\n",
    ")\n",
    "\n",
    "hbox1 = widgets.HBox([download]) "
   ]
  },
  {
   "cell_type": "code",
   "execution_count": 7,
   "id": "815943cc",
   "metadata": {},
   "outputs": [],
   "source": [
    "def download_images(b):\n",
    "    with output:\n",
    "\n",
    "        output.clear_output()\n",
    "        for x in range(limit) :\n",
    "            try :\n",
    "                print(\"downloading : \", items[x])\n",
    "                geemap.download_ee_image(ee.Image(data_lis.get(x)), f\"{items[x].split('/')[-1]}.tif\", scale = 30, crs = 'epsg:4326', region = AOI.geometry())\n",
    "            except :\n",
    "                pass\n",
    "download.on_click(download_images)"
   ]
  },
  {
   "cell_type": "code",
   "execution_count": 10,
   "id": "7bf14cf7",
   "metadata": {
    "scrolled": false
   },
   "outputs": [
    {
     "data": {
      "application/vnd.jupyter.widget-view+json": {
       "model_id": "9b03ec4bea6148f1978ee3d89372b207",
       "version_major": 2,
       "version_minor": 0
      },
      "text/plain": [
       "Map(center=[20, 0], controls=(WidgetControl(options=['position', 'transparent_bg'], widget=HBox(children=(Togg…"
      ]
     },
     "execution_count": 10,
     "metadata": {},
     "output_type": "execute_result"
    },
    {
     "data": {
      "application/vnd.jupyter.widget-view+json": {
       "model_id": "68d46953bb05443495c7a0cfe8a74a0f",
       "version_major": 2,
       "version_minor": 0
      },
      "text/plain": [
       "HBox(children=(IntSlider(value=2000, description='Year:', max=2022, min=2000, style=SliderStyle(description_wi…"
      ]
     },
     "execution_count": 10,
     "metadata": {},
     "output_type": "execute_result"
    },
    {
     "data": {
      "application/vnd.jupyter.widget-view+json": {
       "model_id": "5bd2533864804716a147c6a2883eae43",
       "version_major": 2,
       "version_minor": 0
      },
      "text/plain": [
       "HBox(children=(Button(button_style='primary', description='download images  (.tif)', style=ButtonStyle(), tool…"
      ]
     },
     "execution_count": 10,
     "metadata": {},
     "output_type": "execute_result"
    }
   ],
   "source": [
    "Map = geemap.Map()\n",
    "Map\n",
    "hbox\n",
    "hbox1"
   ]
  },
  {
   "cell_type": "code",
   "execution_count": 11,
   "id": "6db86b0e",
   "metadata": {},
   "outputs": [
    {
     "data": {
      "application/vnd.jupyter.widget-view+json": {
       "model_id": "fcc78ce3ad3a44cb9e042fa765670b16",
       "version_major": 2,
       "version_minor": 0
      },
      "text/plain": [
       "Output()"
      ]
     },
     "execution_count": 11,
     "metadata": {},
     "output_type": "execute_result"
    }
   ],
   "source": [
    "output"
   ]
  },
  {
   "cell_type": "code",
   "execution_count": null,
   "id": "7bfabf13",
   "metadata": {},
   "outputs": [],
   "source": []
  },
  {
   "cell_type": "code",
   "execution_count": 11,
   "id": "c01c328a",
   "metadata": {},
   "outputs": [],
   "source": []
  },
  {
   "cell_type": "code",
   "execution_count": null,
   "id": "ce56fc26",
   "metadata": {},
   "outputs": [],
   "source": []
  }
 ],
 "metadata": {
  "hide_input": true,
  "kernelspec": {
   "display_name": "Python 3 (ipykernel)",
   "language": "python",
   "name": "python3"
  },
  "language_info": {
   "codemirror_mode": {
    "name": "ipython",
    "version": 3
   },
   "file_extension": ".py",
   "mimetype": "text/x-python",
   "name": "python",
   "nbconvert_exporter": "python",
   "pygments_lexer": "ipython3",
   "version": "3.10.4"
  },
  "toc": {
   "base_numbering": 1,
   "nav_menu": {},
   "number_sections": true,
   "sideBar": true,
   "skip_h1_title": false,
   "title_cell": "Table of Contents",
   "title_sidebar": "Contents",
   "toc_cell": false,
   "toc_position": {},
   "toc_section_display": true,
   "toc_window_display": false
  },
  "varInspector": {
   "cols": {
    "lenName": 16,
    "lenType": 16,
    "lenVar": 40
   },
   "kernels_config": {
    "python": {
     "delete_cmd_postfix": "",
     "delete_cmd_prefix": "del ",
     "library": "var_list.py",
     "varRefreshCmd": "print(var_dic_list())"
    },
    "r": {
     "delete_cmd_postfix": ") ",
     "delete_cmd_prefix": "rm(",
     "library": "var_list.r",
     "varRefreshCmd": "cat(var_dic_list()) "
    }
   },
   "position": {
    "height": "445.85px",
    "left": "1486px",
    "right": "20px",
    "top": "121px",
    "width": "350px"
   },
   "types_to_exclude": [
    "module",
    "function",
    "builtin_function_or_method",
    "instance",
    "_Feature"
   ],
   "window_display": false
  }
 },
 "nbformat": 4,
 "nbformat_minor": 5
}
